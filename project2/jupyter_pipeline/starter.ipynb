{
 "cells": [
  {
   "cell_type": "markdown",
   "metadata": {},
   "source": [
    "# Deploy and monitor a machine learning workflow for Image Classification"
   ]
  },
  {
   "cell_type": "markdown",
   "metadata": {},
   "source": [
    "Reference:https://sagemaker.readthedocs.io/en/stable/index.html"
   ]
  },
  {
   "cell_type": "markdown",
   "metadata": {},
   "source": [
    "## Data Staging\n",
    "\n",
    "We'll use a sample dataset called CIFAR to simulate the challenges Scones Unlimited are facing in Image Classification. In order to start working with CIFAR we'll need to:\n",
    "\n",
    "1. Extract the data from a hosting service\n",
    "2. Transform it into a usable shape and format\n",
    "3. Load it into a production system\n",
    "\n",
    "In other words, we're going to do some simple ETL!\n",
    "\n",
    "### 1. Extract the data from the hosting service\n",
    "\n",
    "In the cell below, define a function `extract_cifar_data` that extracts python version of the CIFAR-100 dataset. The CIFAR dataaset is open source and generously hosted by the University of Toronto at: https://www.cs.toronto.edu/~kriz/cifar-100-python.tar.gz "
   ]
  },
  {
   "cell_type": "code",
   "execution_count": 1,
   "metadata": {},
   "outputs": [],
   "source": [
    "import requests\n",
    "\n",
    "def extract_cifar_data(url, filename=\"cifar.tar.gz\"):\n",
    "    \"\"\"A function for extracting the CIFAR-100 dataset and storing it as a gzipped file\n",
    "    \n",
    "    Arguments:\n",
    "    url      -- the URL where the dataset is hosted\n",
    "    filename -- the full path where the dataset will be written\n",
    "    \n",
    "    \"\"\"\n",
    "    \n",
    "    # Todo: request the data from the data url\n",
    "    # Hint: use `requests.get` method\n",
    "    r = requests.get(url)\n",
    "    with open(filename, \"wb\") as file_context:\n",
    "        file_context.write(r.content)\n",
    "    return"
   ]
  },
  {
   "cell_type": "markdown",
   "metadata": {},
   "source": [
    "Let's test it out! Run the following cell and check whether a new file `cifar.tar.gz` is created in the file explorer."
   ]
  },
  {
   "cell_type": "code",
   "execution_count": 2,
   "metadata": {},
   "outputs": [],
   "source": [
    "extract_cifar_data(\"https://www.cs.toronto.edu/~kriz/cifar-100-python.tar.gz\")     "
   ]
  },
  {
   "cell_type": "markdown",
   "metadata": {},
   "source": [
    "### 2. Transform the data into a usable shape and format\n",
    "\n",
    "Clearly, distributing the data as a gzipped archive makes sense for the hosting service! It saves on bandwidth, storage, and it's a widely-used archive format. In fact, it's so widely used that the Python community ships a utility for working with them, `tarfile`, as part of its Standard Library. Execute the following cell to decompress your extracted dataset:"
   ]
  },
  {
   "cell_type": "code",
   "execution_count": 3,
   "metadata": {},
   "outputs": [],
   "source": [
    "import tarfile\n",
    "\n",
    "with tarfile.open(\"cifar.tar.gz\", \"r:gz\") as tar:\n",
    "    tar.extractall()"
   ]
  },
  {
   "cell_type": "markdown",
   "metadata": {},
   "source": [
    "A new folder `cifar-100-python` should be created, containing `meta`, `test`, and `train` files. These files are `pickles` and the [CIFAR homepage](https://www.cs.toronto.edu/~kriz/cifar.html) provides a simple script that can be used to load them. We've adapted the script below for you to run:"
   ]
  },
  {
   "cell_type": "code",
   "execution_count": 2,
   "metadata": {},
   "outputs": [],
   "source": [
    "import pickle\n",
    "\n",
    "with open(\"./cifar-100-python/meta\", \"rb\") as f:\n",
    "    dataset_meta = pickle.load(f, encoding='bytes')\n",
    "\n",
    "with open(\"./cifar-100-python/test\", \"rb\") as f:\n",
    "    dataset_test = pickle.load(f, encoding='bytes')\n",
    "\n",
    "with open(\"./cifar-100-python/train\", \"rb\") as f:\n",
    "    dataset_train = pickle.load(f, encoding='bytes')"
   ]
  },
  {
   "cell_type": "code",
   "execution_count": 3,
   "metadata": {},
   "outputs": [
    {
     "data": {
      "text/plain": [
       "dict_keys([b'filenames', b'batch_label', b'fine_labels', b'coarse_labels', b'data'])"
      ]
     },
     "execution_count": 3,
     "metadata": {},
     "output_type": "execute_result"
    }
   ],
   "source": [
    "# Feel free to explore the datasets\n",
    "\n",
    "dataset_train.keys()"
   ]
  },
  {
   "cell_type": "markdown",
   "metadata": {},
   "source": [
    "As documented on the homepage, `b'data'` contains rows of 3073 unsigned integers, representing three channels (red, green, and blue) for one 32x32 pixel image per row."
   ]
  },
  {
   "cell_type": "code",
   "execution_count": 4,
   "metadata": {},
   "outputs": [
    {
     "data": {
      "text/plain": [
       "3072"
      ]
     },
     "execution_count": 4,
     "metadata": {},
     "output_type": "execute_result"
    }
   ],
   "source": [
    "32*32*3"
   ]
  },
  {
   "cell_type": "markdown",
   "metadata": {},
   "source": [
    "For a simple gut-check, let's transform one of our images. Each 1024 items in a row is a channel (red, green, then blue). Each 32 items in the channel are a row in the 32x32 image. Using python, we can stack these channels into a 32x32x3 array, and save it as a PNG file:"
   ]
  },
  {
   "cell_type": "code",
   "execution_count": 6,
   "metadata": {},
   "outputs": [],
   "source": [
    "import numpy as np\n",
    "\n",
    "# Each 1024 in a row is a channel (red, green, then blue)\n",
    "row = dataset_train[b'data'][0]\n",
    "red, green, blue = row[0:1024], row[1024:2048], row[2048:]\n",
    "\n",
    "# Each 32 items in the channel are a row in the 32x32 image\n",
    "red = red.reshape(32,32)\n",
    "green = green.reshape(32,32)\n",
    "blue = blue.reshape(32,32)\n",
    "\n",
    "# Combine the channels into a 32x32x3 image!\n",
    "combined = np.dstack((red,green,blue))"
   ]
  },
  {
   "cell_type": "markdown",
   "metadata": {},
   "source": [
    "For a more concise version, consider the following:"
   ]
  },
  {
   "cell_type": "code",
   "execution_count": 7,
   "metadata": {},
   "outputs": [],
   "source": [
    "# All in one:\n",
    "test_image = np.dstack((\n",
    "    row[0:1024].reshape(32,32),\n",
    "    row[1024:2048].reshape(32,32),\n",
    "    row[2048:].reshape(32,32)\n",
    "))"
   ]
  },
  {
   "cell_type": "code",
   "execution_count": 8,
   "metadata": {},
   "outputs": [
    {
     "data": {
      "image/png": "[encoded data removed]",
      "text/plain": [
       "<Figure size 432x288 with 1 Axes>"
      ]
     },
     "metadata": {
      "needs_background": "light"
     },
     "output_type": "display_data"
    }
   ],
   "source": [
    "import matplotlib.pyplot as plt\n",
    "plt.imshow(test_image);"
   ]
  },
  {
   "cell_type": "markdown",
   "metadata": {},
   "source": [
    "Looks like a cow! Let's check the label. `dataset_meta` contains label names in order, and `dataset_train` has a list of labels for each row."
   ]
  },
  {
   "cell_type": "code",
   "execution_count": 9,
   "metadata": {},
   "outputs": [
    {
     "data": {
      "text/plain": [
       "19"
      ]
     },
     "execution_count": 9,
     "metadata": {},
     "output_type": "execute_result"
    }
   ],
   "source": [
    "dataset_train[b'fine_labels'][0]"
   ]
  },
  {
   "cell_type": "markdown",
   "metadata": {},
   "source": [
    "Our image has a label of `19`, so let's see what the 19th item is in the list of label names."
   ]
  },
  {
   "cell_type": "code",
   "execution_count": 10,
   "metadata": {},
   "outputs": [
    {
     "name": "stdout",
     "output_type": "stream",
     "text": [
      "b'cattle'\n"
     ]
    }
   ],
   "source": [
    "print(dataset_meta[b'fine_label_names'][19])"
   ]
  },
  {
   "cell_type": "markdown",
   "metadata": {},
   "source": [
    "Ok! 'cattle' sounds about right. By the way, using the previous two lines we can do:"
   ]
  },
  {
   "cell_type": "code",
   "execution_count": 11,
   "metadata": {},
   "outputs": [
    {
     "name": "stdout",
     "output_type": "stream",
     "text": [
      "b'cattle'\n"
     ]
    }
   ],
   "source": [
    "n = 0\n",
    "print(dataset_meta[b'fine_label_names'][dataset_train[b'fine_labels'][n]])"
   ]
  },
  {
   "cell_type": "markdown",
   "metadata": {},
   "source": [
    "Now we know how to check labels, is there a way that we can also check file names? `dataset_train` also contains a `b'filenames'` key. Let's see what we have here:"
   ]
  },
  {
   "cell_type": "code",
   "execution_count": 12,
   "metadata": {},
   "outputs": [
    {
     "name": "stdout",
     "output_type": "stream",
     "text": [
      "b'bos_taurus_s_000507.png'\n"
     ]
    }
   ],
   "source": [
    "print(dataset_train[b'filenames'][0])"
   ]
  },
  {
   "cell_type": "markdown",
   "metadata": {},
   "source": [
    "\"Taurus\" is the name of a subspecies of cattle, so this looks like a pretty reasonable filename. To save an image we can also do:"
   ]
  },
  {
   "cell_type": "code",
   "execution_count": 13,
   "metadata": {},
   "outputs": [],
   "source": [
    "plt.imsave(\"file.png\", test_image)"
   ]
  },
  {
   "cell_type": "markdown",
   "metadata": {},
   "source": [
    "Your new PNG file should now appear in the file explorer -- go ahead and pop it open to see!\n",
    "\n",
    "Now that you know how to reshape the images, save them as files, and capture their filenames and labels, let's just capture all the bicycles and motorcycles and save them. Scones Unlimited can use a model that tells these apart to route delivery drivers automatically.\n",
    "\n",
    "In the following cell, identify the label numbers for Bicycles and Motorcycles:"
   ]
  },
  {
   "cell_type": "code",
   "execution_count": 14,
   "metadata": {},
   "outputs": [
    {
     "data": {
      "text/plain": [
       "{8, 48}"
      ]
     },
     "execution_count": 14,
     "metadata": {},
     "output_type": "execute_result"
    }
   ],
   "source": [
    "import pandas as pd\n",
    "\n",
    "# Filter the dataset_train and dataset_meta objects to find the label numbers for Bicycle and Motorcycles\n",
    "set([label_num for label_num in dataset_train[b'fine_labels'] if dataset_meta[b'fine_label_names'][label_num] in [b'bicycle', b'motorcycle']])\n"
   ]
  },
  {
   "cell_type": "markdown",
   "metadata": {},
   "source": [
    "Good job! We only need objects with label 8 and 48 -- this drastically simplifies our handling of the data! Below we construct a dataframe for you, and you can safely drop the rows that don't contain observations about bicycles and motorcycles. Fill in the missing lines below to drop all other rows:"
   ]
  },
  {
   "cell_type": "code",
   "execution_count": 15,
   "metadata": {},
   "outputs": [],
   "source": [
    "#Construct the dataframe\n",
    "df_train = pd.DataFrame({\n",
    "    \"filenames\": dataset_train[b'filenames'],\n",
    "    \"labels\": dataset_train[b'fine_labels'],\n",
    "    \"row\": range(len(dataset_train[b'filenames']))\n",
    "})\n",
    "\n",
    "# # Drop all rows from df_train where label is not 8 or 48\n",
    "df_train = df_train[df_train.labels.isin([8, 48])]\n",
    "\n",
    "# Decode df_train.filenames so they are regular strings\n",
    "df_train[\"filenames\"] = df_train[\"filenames\"].apply(\n",
    "    lambda x: x.decode(\"utf-8\")\n",
    ")\n",
    "\n",
    "\n",
    "df_test = pd.DataFrame({\n",
    "    \"filenames\": dataset_test[b'filenames'],\n",
    "    \"labels\": dataset_test[b'fine_labels'],\n",
    "    \"row\": range(len(dataset_test[b'filenames']))\n",
    "})\n",
    "\n",
    "# Drop all rows from df_test where label is not 8 or 48\n",
    "df_test = df_test[df_test.labels.isin([8, 48])]\n",
    "\n",
    "# Decode df_test.filenames so they are regular strings\n",
    "df_test[\"filenames\"] = df_test[\"filenames\"].apply(\n",
    "    lambda x: x.decode(\"utf-8\")\n",
    ")"
   ]
  },
  {
   "cell_type": "code",
   "execution_count": 16,
   "metadata": {},
   "outputs": [
    {
     "data": {
      "text/html": [
       "<div>\n",
       "<style scoped>\n",
       "    .dataframe tbody tr th:only-of-type {\n",
       "        vertical-align: middle;\n",
       "    }\n",
       "\n",
       "    .dataframe tbody tr th {\n",
       "        vertical-align: top;\n",
       "    }\n",
       "\n",
       "    .dataframe thead th {\n",
       "        text-align: right;\n",
       "    }\n",
       "</style>\n",
       "<table border=\"1\" class=\"dataframe\">\n",
       "  <thead>\n",
       "    <tr style=\"text-align: right;\">\n",
       "      <th></th>\n",
       "      <th>filenames</th>\n",
       "      <th>labels</th>\n",
       "      <th>row</th>\n",
       "    </tr>\n",
       "  </thead>\n",
       "  <tbody>\n",
       "    <tr>\n",
       "      <th>27</th>\n",
       "      <td>safety_bike_s_000390.png</td>\n",
       "      <td>8</td>\n",
       "      <td>27</td>\n",
       "    </tr>\n",
       "    <tr>\n",
       "      <th>28</th>\n",
       "      <td>bike_s_000658.png</td>\n",
       "      <td>8</td>\n",
       "      <td>28</td>\n",
       "    </tr>\n",
       "    <tr>\n",
       "      <th>116</th>\n",
       "      <td>velocipede_s_001744.png</td>\n",
       "      <td>8</td>\n",
       "      <td>116</td>\n",
       "    </tr>\n",
       "    <tr>\n",
       "      <th>161</th>\n",
       "      <td>bike_s_000643.png</td>\n",
       "      <td>8</td>\n",
       "      <td>161</td>\n",
       "    </tr>\n",
       "    <tr>\n",
       "      <th>319</th>\n",
       "      <td>ordinary_bicycle_s_000437.png</td>\n",
       "      <td>8</td>\n",
       "      <td>319</td>\n",
       "    </tr>\n",
       "    <tr>\n",
       "      <th>...</th>\n",
       "      <td>...</td>\n",
       "      <td>...</td>\n",
       "      <td>...</td>\n",
       "    </tr>\n",
       "    <tr>\n",
       "      <th>9654</th>\n",
       "      <td>trail_bike_s_000073.png</td>\n",
       "      <td>48</td>\n",
       "      <td>9654</td>\n",
       "    </tr>\n",
       "    <tr>\n",
       "      <th>9692</th>\n",
       "      <td>bike_s_000941.png</td>\n",
       "      <td>8</td>\n",
       "      <td>9692</td>\n",
       "    </tr>\n",
       "    <tr>\n",
       "      <th>9833</th>\n",
       "      <td>motorcycle_s_000141.png</td>\n",
       "      <td>48</td>\n",
       "      <td>9833</td>\n",
       "    </tr>\n",
       "    <tr>\n",
       "      <th>9928</th>\n",
       "      <td>ordinary_bicycle_s_000105.png</td>\n",
       "      <td>8</td>\n",
       "      <td>9928</td>\n",
       "    </tr>\n",
       "    <tr>\n",
       "      <th>9939</th>\n",
       "      <td>bicycle_s_001218.png</td>\n",
       "      <td>8</td>\n",
       "      <td>9939</td>\n",
       "    </tr>\n",
       "  </tbody>\n",
       "</table>\n",
       "<p>200 rows × 3 columns</p>\n",
       "</div>"
      ],
      "text/plain": [
       "                          filenames  labels   row\n",
       "27         safety_bike_s_000390.png       8    27\n",
       "28                bike_s_000658.png       8    28\n",
       "116         velocipede_s_001744.png       8   116\n",
       "161               bike_s_000643.png       8   161\n",
       "319   ordinary_bicycle_s_000437.png       8   319\n",
       "...                             ...     ...   ...\n",
       "9654        trail_bike_s_000073.png      48  9654\n",
       "9692              bike_s_000941.png       8  9692\n",
       "9833        motorcycle_s_000141.png      48  9833\n",
       "9928  ordinary_bicycle_s_000105.png       8  9928\n",
       "9939           bicycle_s_001218.png       8  9939\n",
       "\n",
       "[200 rows x 3 columns]"
      ]
     },
     "execution_count": 16,
     "metadata": {},
     "output_type": "execute_result"
    }
   ],
   "source": [
    "df_test"
   ]
  },
  {
   "cell_type": "markdown",
   "metadata": {},
   "source": [
    "Now that the data is filtered for just our classes, we can save all our images."
   ]
  },
  {
   "cell_type": "code",
   "execution_count": 17,
   "metadata": {},
   "outputs": [
    {
     "name": "stdout",
     "output_type": "stream",
     "text": [
      "mkdir: cannot create directory ‘./train’: File exists\n",
      "mkdir: cannot create directory ‘./test’: File exists\n"
     ]
    }
   ],
   "source": [
    "!mkdir ./train\n",
    "!mkdir ./test"
   ]
  },
  {
   "cell_type": "markdown",
   "metadata": {},
   "source": [
    "In the previous sections we introduced you to several key snippets of code:\n",
    "\n",
    "1. Grabbing the image data:\n",
    "\n",
    "```python\n",
    "dataset_train[b'data'][0]\n",
    "```\n",
    "\n",
    "2. A simple idiom for stacking the image data into the right shape\n",
    "\n",
    "```python\n",
    "import numpy as np\n",
    "np.dstack((\n",
    "    row[0:1024].reshape(32,32),\n",
    "    row[1024:2048].reshape(32,32),\n",
    "    row[2048:].reshape(32,32)\n",
    "))\n",
    "```\n",
    "\n",
    "3. A simple `matplotlib` utility for saving images\n",
    "\n",
    "```python\n",
    "plt.imsave(path+row['filenames'], target)\n",
    "```\n",
    "\n",
    "Compose these together into a function that saves all the images into the `./test` and `./train` directories. Use the comments in the body of the `save_images` function below to guide your construction of the function:\n"
   ]
  },
  {
   "cell_type": "code",
   "execution_count": 18,
   "metadata": {},
   "outputs": [],
   "source": [
    "def save_images(dataset, root_dir, original_data):\n",
    "    #Grab the image data in row-major form\n",
    "    for i in range(len(dataset)):\n",
    "        \n",
    "        row = dataset['row'].iloc[i]\n",
    "        \n",
    "        filename = dataset['filenames'].iloc[i]\n",
    "        \n",
    "        pix_matrix = original_data[b'data'][row]\n",
    "\n",
    "        # Consolidated stacking/reshaping from earlier\n",
    "        target = np.dstack((\n",
    "            pix_matrix[0:1024].reshape(32,32),\n",
    "            pix_matrix[1024:2048].reshape(32,32),\n",
    "            pix_matrix[2048:].reshape(32,32)\n",
    "    ))\n",
    "        \n",
    "        # Save the image\n",
    "        plt.imsave(os.path.join(root_dir, filename), target)\n",
    "\n",
    "    # Return any signal data you want for debugging\n",
    "    return\n",
    "\n",
    "## TODO: save ALL images using the save_images function\n",
    "save_images(df_train, './train/', dataset_train)\n",
    "save_images(df_test, './test/', dataset_test)"
   ]
  },
  {
   "cell_type": "markdown",
   "metadata": {},
   "source": [
    "### 3. Load the data\n",
    "\n",
    "Now we can load the data into S3.\n",
    "\n",
    "Using the sagemaker SDK grab the current region, execution role, and bucket."
   ]
  },
  {
   "cell_type": "code",
   "execution_count": 4,
   "metadata": {},
   "outputs": [],
   "source": [
    "import boto3\n",
    "my_session = boto3.session.Session()\n",
    "my_region = my_session.region_name"
   ]
  },
  {
   "cell_type": "markdown",
   "metadata": {},
   "source": [
    "import sagemaker\n",
    "\n",
    "session = sagemaker.Session()\n",
    "\n",
    "bucket= session.default_bucket()\n",
    "print(\"Default Bucket: {}\".format(bucket))\n",
    "\n",
    "region =  boto3.session.Session().region_name\n",
    "print(\"AWS Region: {}\".format(region))\n",
    "\n",
    "role = sagemaker.get_execution_role()\n",
    "print(\"RoleArn: {}\".format(role))"
   ]
  },
  {
   "cell_type": "markdown",
   "metadata": {},
   "source": [
    "With this data we can easily sync your data up into S3!"
   ]
  },
  {
   "cell_type": "markdown",
   "metadata": {},
   "source": [
    "import os\n",
    "\n",
    "os.environ[\"DEFAULT_S3_BUCKET\"] = bucket\n",
    "!aws s3 sync ./train s3://${DEFAULT_S3_BUCKET}/train/\n",
    "!aws s3 sync ./test s3://${DEFAULT_S3_BUCKET}/test/"
   ]
  },
  {
   "cell_type": "markdown",
   "metadata": {},
   "source": [
    "And that's it! You can check the bucket and verify that the items were uploaded.\n",
    "\n",
    "## Model Training\n",
    "\n",
    "For Image Classification, Sagemaker [also expects metadata](https://docs.aws.amazon.com/sagemaker/latest/dg/image-classification.html) e.g. in the form of TSV files with labels and filepaths. We can generate these using our Pandas DataFrames from earlier:"
   ]
  },
  {
   "cell_type": "code",
   "execution_count": 21,
   "metadata": {},
   "outputs": [],
   "source": [
    "def to_metadata_file(df, prefix):\n",
    "    df[\"s3_path\"] = df[\"filenames\"]\n",
    "    df[\"labels\"] = df[\"labels\"].apply(lambda x: 0 if x==8 else 1)\n",
    "    return df[[\"row\", \"labels\", \"s3_path\"]].to_csv(\n",
    "        f\"{prefix}.lst\", sep=\"\\t\", index=False, header=False\n",
    "    )\n",
    "    \n",
    "to_metadata_file(df_train.copy(), \"train\")\n",
    "to_metadata_file(df_test.copy(), \"test\")"
   ]
  },
  {
   "cell_type": "markdown",
   "metadata": {},
   "source": [
    "We can also upload our manifest files:"
   ]
  },
  {
   "cell_type": "code",
   "execution_count": 57,
   "metadata": {},
   "outputs": [],
   "source": [
    "import boto3\n",
    "\n",
    "# Upload files\n",
    "boto3.Session().resource('s3').Bucket(\n",
    "    bucket).Object('train.lst').upload_file('./train.lst')\n",
    "boto3.Session().resource('s3').Bucket(\n",
    "    bucket).Object('test.lst').upload_file('./test.lst')"
   ]
  },
  {
   "cell_type": "markdown",
   "metadata": {},
   "source": [
    "Using the `bucket` and `region` info we can get the latest prebuilt container to run our training job, and define an output location on our s3 bucket for the model. Use the `image_uris` function from the SageMaker SDK to retrieve the latest `image-classification` image below:"
   ]
  },
  {
   "cell_type": "code",
   "execution_count": 22,
   "metadata": {
    "scrolled": true
   },
   "outputs": [
    {
     "name": "stderr",
     "output_type": "stream",
     "text": [
      "Defaulting to the only supported framework/algorithm version: 1. Ignoring framework/algorithm version: latest.\n"
     ]
    }
   ],
   "source": [
    "# Use the image_uris function to retrieve the latest 'image-classification' image \n",
    "algo_image = sagemaker.image_uris.retrieve(framework=\"image-classification\", region=region, version=\"latest\")\n",
    "s3_output_location = f\"s3://{bucket}/models/image_model\""
   ]
  },
  {
   "cell_type": "markdown",
   "metadata": {},
   "source": [
    "We're ready to create an estimator! Create an estimator `img_classifier_model` that uses one instance of `ml.p2.xlarge`. Ensure that y ou use the output location we defined above - we'll be referring to that later!"
   ]
  },
  {
   "cell_type": "code",
   "execution_count": 23,
   "metadata": {},
   "outputs": [],
   "source": [
    "# Reference:\n",
    "# https://sagemaker.readthedocs.io/en/stable/api/training/estimators.html\n",
    "    \n",
    "img_classifier_model=sagemaker.estimator.Estimator(\n",
    "    algo_image,\n",
    "    role,\n",
    "    instance_count=1,\n",
    "    instance_type=\"ml.p2.xlarge\",\n",
    "    output_path=s3_output_location,\n",
    "    sagemaker_session=session\n",
    ")"
   ]
  },
  {
   "cell_type": "markdown",
   "metadata": {},
   "source": [
    "We can also set a few key hyperparameters and define the inputs for our model:"
   ]
  },
  {
   "cell_type": "code",
   "execution_count": 24,
   "metadata": {},
   "outputs": [],
   "source": [
    "img_classifier_model.set_hyperparameters(\n",
    "    image_shape='3,32,32', \n",
    "    num_classes='2', \n",
    "    num_training_samples= len(df_train)\n",
    ")"
   ]
  },
  {
   "cell_type": "markdown",
   "metadata": {},
   "source": [
    "The `image-classification` image uses four input channels with very specific input parameters. For convenience, we've provided them below:"
   ]
  },
  {
   "cell_type": "code",
   "execution_count": 25,
   "metadata": {},
   "outputs": [],
   "source": [
    "from sagemaker.debugger import Rule, rule_configs\n",
    "from sagemaker.session import TrainingInput\n",
    "model_inputs = {\n",
    "        \"train\": sagemaker.inputs.TrainingInput(\n",
    "            s3_data=f\"s3://{bucket}/train/\",\n",
    "            content_type=\"application/x-image\"\n",
    "        ),\n",
    "        \"validation\": sagemaker.inputs.TrainingInput(\n",
    "            s3_data=f\"s3://{bucket}/test/\",\n",
    "            content_type=\"application/x-image\"\n",
    "        ),\n",
    "        \"train_lst\": sagemaker.inputs.TrainingInput(\n",
    "            s3_data=f\"s3://{bucket}/train.lst\",\n",
    "            content_type=\"application/x-image\"\n",
    "        ),\n",
    "        \"validation_lst\": sagemaker.inputs.TrainingInput(\n",
    "            s3_data=f\"s3://{bucket}/test.lst\",\n",
    "            content_type=\"application/x-image\"\n",
    "        )\n",
    "}"
   ]
  },
  {
   "cell_type": "markdown",
   "metadata": {},
   "source": [
    "Great, now we can train the model using the model_inputs. In the cell below, call the `fit` method on our model,:"
   ]
  },
  {
   "cell_type": "code",
   "execution_count": 26,
   "metadata": {},
   "outputs": [
    {
     "name": "stdout",
     "output_type": "stream",
     "text": [
      "2022-03-07 20:19:36 Starting - Starting the training job...\n",
      "2022-03-07 20:20:01 Starting - Preparing the instances for trainingProfilerReport-1646684375: InProgress\n",
      ".........\n",
      "2022-03-07 20:21:24 Downloading - Downloading input data......\n",
      "2022-03-07 20:22:20 Training - Downloading the training image.........\n",
      "2022-03-07 20:23:59 Training - Training image download completed. Training in progress.\u001b[34mDocker entrypoint called with argument(s): train\u001b[0m\n",
      "\u001b[34m[03/07/2022 20:24:04 INFO 140099202549568] Reading default configuration from /opt/amazon/lib/python3.7/site-packages/image_classification/default-input.json: {'use_pretrained_model': 0, 'num_layers': 152, 'epochs': 30, 'learning_rate': 0.1, 'lr_scheduler_factor': 0.1, 'optimizer': 'sgd', 'momentum': 0, 'weight_decay': 0.0001, 'beta_1': 0.9, 'beta_2': 0.999, 'eps': 1e-08, 'gamma': 0.9, 'mini_batch_size': 32, 'image_shape': '3,224,224', 'precision_dtype': 'float32'}\u001b[0m\n",
      "\u001b[34m[03/07/2022 20:24:04 INFO 140099202549568] Merging with provided configuration from /opt/ml/input/config/hyperparameters.json: {'image_shape': '3,32,32', 'num_classes': '2', 'num_training_samples': '1000'}\u001b[0m\n",
      "\u001b[34m[03/07/2022 20:24:04 INFO 140099202549568] Final configuration: {'use_pretrained_model': 0, 'num_layers': 152, 'epochs': 30, 'learning_rate': 0.1, 'lr_scheduler_factor': 0.1, 'optimizer': 'sgd', 'momentum': 0, 'weight_decay': 0.0001, 'beta_1': 0.9, 'beta_2': 0.999, 'eps': 1e-08, 'gamma': 0.9, 'mini_batch_size': 32, 'image_shape': '3,32,32', 'precision_dtype': 'float32', 'num_classes': '2', 'num_training_samples': '1000'}\u001b[0m\n",
      "\u001b[34m[03/07/2022 20:24:04 INFO 140099202549568] Searching for .lst files in /opt/ml/input/data/train_lst.\u001b[0m\n",
      "\u001b[34m[03/07/2022 20:24:04 INFO 140099202549568] Creating record files for train.lst\u001b[0m\n",
      "\u001b[34m[03/07/2022 20:24:04 INFO 140099202549568] Done creating record files...\u001b[0m\n",
      "\u001b[34m[03/07/2022 20:24:04 INFO 140099202549568] Searching for .lst files in /opt/ml/input/data/validation_lst.\u001b[0m\n",
      "\u001b[34m[03/07/2022 20:24:04 INFO 140099202549568] Creating record files for test.lst\u001b[0m\n",
      "\u001b[34m[03/07/2022 20:24:05 INFO 140099202549568] Done creating record files...\u001b[0m\n",
      "\u001b[34m[03/07/2022 20:24:05 INFO 140099202549568] use_pretrained_model: 0\u001b[0m\n",
      "\u001b[34m[03/07/2022 20:24:05 INFO 140099202549568] multi_label: 0\u001b[0m\n",
      "\u001b[34m[03/07/2022 20:24:05 INFO 140099202549568] Performing random weight initialization\u001b[0m\n",
      "\u001b[34m[03/07/2022 20:24:05 INFO 140099202549568] ---- Parameters ----\u001b[0m\n",
      "\u001b[34m[03/07/2022 20:24:05 INFO 140099202549568] num_layers: 152\u001b[0m\n",
      "\u001b[34m[03/07/2022 20:24:05 INFO 140099202549568] data type: <class 'numpy.float32'>\u001b[0m\n",
      "\u001b[34m[03/07/2022 20:24:05 INFO 140099202549568] epochs: 30\u001b[0m\n",
      "\u001b[34m[03/07/2022 20:24:05 INFO 140099202549568] optimizer: sgd\u001b[0m\n",
      "\u001b[34m[03/07/2022 20:24:05 INFO 140099202549568] momentum: 0.9\u001b[0m\n",
      "\u001b[34m[03/07/2022 20:24:05 INFO 140099202549568] weight_decay: 0.0001\u001b[0m\n",
      "\u001b[34m[03/07/2022 20:24:05 INFO 140099202549568] learning_rate: 0.1\u001b[0m\n",
      "\u001b[34m[03/07/2022 20:24:05 INFO 140099202549568] num_training_samples: 1000\u001b[0m\n",
      "\u001b[34m[03/07/2022 20:24:05 INFO 140099202549568] mini_batch_size: 32\u001b[0m\n",
      "\u001b[34m[03/07/2022 20:24:05 INFO 140099202549568] image_shape: 3,32,32\u001b[0m\n",
      "\u001b[34m[03/07/2022 20:24:05 INFO 140099202549568] num_classes: 2\u001b[0m\n",
      "\u001b[34m[03/07/2022 20:24:05 INFO 140099202549568] augmentation_type: None\u001b[0m\n",
      "\u001b[34m[03/07/2022 20:24:05 INFO 140099202549568] kv_store: device\u001b[0m\n",
      "\u001b[34m[03/07/2022 20:24:05 INFO 140099202549568] checkpoint_frequency not set, will store the best model\u001b[0m\n",
      "\u001b[34m[03/07/2022 20:24:05 INFO 140099202549568] --------------------\u001b[0m\n",
      "\u001b[34m[03/07/2022 20:24:05 INFO 140099202549568] Setting number of threads: 3\u001b[0m\n",
      "\u001b[34m[20:24:15] /opt/brazil-pkg-cache/packages/AIAlgorithmsMXNet/AIAlgorithmsMXNet-1.3.x_ecl_Cuda_10.1.x.10365.0/AL2_x86_64/generic-flavor/src/src/operator/nn/./cudnn/./cudnn_algoreg-inl.h:97: Running performance tests to find the best convolution algorithm, this can take a while... (setting env variable MXNET_CUDNN_AUTOTUNE_DEFAULT to 0 to disable)\u001b[0m\n",
      "\u001b[34m[03/07/2022 20:24:34 INFO 140099202549568] Epoch[0] Batch [20]#011Speed: 34.682 samples/sec#011accuracy=0.553571\u001b[0m\n",
      "\u001b[34m[03/07/2022 20:24:39 INFO 140099202549568] Epoch[0] Train-accuracy=0.593750\u001b[0m\n",
      "\u001b[34m[03/07/2022 20:24:39 INFO 140099202549568] Epoch[0] Time cost=24.428\u001b[0m\n",
      "\u001b[34m[03/07/2022 20:24:41 INFO 140099202549568] Epoch[0] Validation-accuracy=0.510417\u001b[0m\n",
      "\u001b[34m[03/07/2022 20:24:41 INFO 140099202549568] Storing the best model with validation accuracy: 0.510417\u001b[0m\n",
      "\u001b[34m[03/07/2022 20:24:42 INFO 140099202549568] Saved checkpoint to \"/opt/ml/model/image-classification-0001.params\"\u001b[0m\n",
      "\u001b[34m[03/07/2022 20:24:53 INFO 140099202549568] Epoch[1] Batch [20]#011Speed: 58.871 samples/sec#011accuracy=0.733631\u001b[0m\n",
      "\u001b[34m[03/07/2022 20:24:58 INFO 140099202549568] Epoch[1] Train-accuracy=0.724798\u001b[0m\n",
      "\u001b[34m[03/07/2022 20:24:58 INFO 140099202549568] Epoch[1] Time cost=16.173\u001b[0m\n",
      "\u001b[34m[03/07/2022 20:25:00 INFO 140099202549568] Epoch[1] Validation-accuracy=0.760417\u001b[0m\n",
      "\u001b[34m[03/07/2022 20:25:00 INFO 140099202549568] Storing the best model with validation accuracy: 0.760417\u001b[0m\n",
      "\u001b[34m[03/07/2022 20:25:00 INFO 140099202549568] Saved checkpoint to \"/opt/ml/model/image-classification-0002.params\"\u001b[0m\n",
      "\u001b[34m[03/07/2022 20:25:11 INFO 140099202549568] Epoch[2] Batch [20]#011Speed: 58.466 samples/sec#011accuracy=0.747024\u001b[0m\n",
      "\u001b[34m[03/07/2022 20:25:17 INFO 140099202549568] Epoch[2] Train-accuracy=0.750000\u001b[0m\n",
      "\u001b[34m[03/07/2022 20:25:17 INFO 140099202549568] Epoch[2] Time cost=16.255\u001b[0m\n",
      "\u001b[34m[03/07/2022 20:25:18 INFO 140099202549568] Epoch[2] Validation-accuracy=0.791667\u001b[0m\n",
      "\u001b[34m[03/07/2022 20:25:19 INFO 140099202549568] Storing the best model with validation accuracy: 0.791667\u001b[0m\n",
      "\u001b[34m[03/07/2022 20:25:19 INFO 140099202549568] Saved checkpoint to \"/opt/ml/model/image-classification-0003.params\"\u001b[0m\n",
      "\u001b[34m[03/07/2022 20:25:30 INFO 140099202549568] Epoch[3] Batch [20]#011Speed: 59.422 samples/sec#011accuracy=0.757440\u001b[0m\n",
      "\u001b[34m[03/07/2022 20:25:35 INFO 140099202549568] Epoch[3] Train-accuracy=0.767137\u001b[0m\n",
      "\u001b[34m[03/07/2022 20:25:35 INFO 140099202549568] Epoch[3] Time cost=16.077\u001b[0m\n",
      "\u001b[34m[03/07/2022 20:25:37 INFO 140099202549568] Epoch[3] Validation-accuracy=0.816964\u001b[0m\n",
      "\u001b[34m[03/07/2022 20:25:37 INFO 140099202549568] Storing the best model with validation accuracy: 0.816964\u001b[0m\n",
      "\u001b[34m[03/07/2022 20:25:38 INFO 140099202549568] Saved checkpoint to \"/opt/ml/model/image-classification-0004.params\"\u001b[0m\n",
      "\u001b[34m[03/07/2022 20:25:48 INFO 140099202549568] Epoch[4] Batch [20]#011Speed: 58.844 samples/sec#011accuracy=0.796131\u001b[0m\n",
      "\u001b[34m[03/07/2022 20:25:54 INFO 140099202549568] Epoch[4] Train-accuracy=0.794355\u001b[0m\n",
      "\u001b[34m[03/07/2022 20:25:54 INFO 140099202549568] Epoch[4] Time cost=16.207\u001b[0m\n",
      "\u001b[34m[03/07/2022 20:25:55 INFO 140099202549568] Epoch[4] Validation-accuracy=0.807292\u001b[0m\n",
      "\u001b[34m[03/07/2022 20:26:07 INFO 140099202549568] Epoch[5] Batch [20]#011Speed: 58.453 samples/sec#011accuracy=0.794643\u001b[0m\n",
      "\u001b[34m[03/07/2022 20:26:12 INFO 140099202549568] Epoch[5] Train-accuracy=0.776210\u001b[0m\n",
      "\u001b[34m[03/07/2022 20:26:12 INFO 140099202549568] Epoch[5] Time cost=16.256\u001b[0m\n",
      "\u001b[34m[03/07/2022 20:26:14 INFO 140099202549568] Epoch[5] Validation-accuracy=0.807292\u001b[0m\n",
      "\u001b[34m[03/07/2022 20:26:25 INFO 140099202549568] Epoch[6] Batch [20]#011Speed: 59.197 samples/sec#011accuracy=0.772321\u001b[0m\n",
      "\u001b[34m[03/07/2022 20:26:30 INFO 140099202549568] Epoch[6] Train-accuracy=0.769153\u001b[0m\n",
      "\u001b[34m[03/07/2022 20:26:30 INFO 140099202549568] Epoch[6] Time cost=16.106\u001b[0m\n",
      "\u001b[34m[03/07/2022 20:26:32 INFO 140099202549568] Epoch[6] Validation-accuracy=0.734375\u001b[0m\n",
      "\u001b[34m[03/07/2022 20:26:43 INFO 140099202549568] Epoch[7] Batch [20]#011Speed: 59.213 samples/sec#011accuracy=0.764881\u001b[0m\n",
      "\u001b[34m[03/07/2022 20:26:48 INFO 140099202549568] Epoch[7] Train-accuracy=0.760081\u001b[0m\n",
      "\u001b[34m[03/07/2022 20:26:48 INFO 140099202549568] Epoch[7] Time cost=16.092\u001b[0m\n",
      "\u001b[34m[03/07/2022 20:26:50 INFO 140099202549568] Epoch[7] Validation-accuracy=0.736607\u001b[0m\n",
      "\u001b[34m[03/07/2022 20:27:02 INFO 140099202549568] Epoch[8] Batch [20]#011Speed: 58.745 samples/sec#011accuracy=0.775298\u001b[0m\n",
      "\u001b[34m[03/07/2022 20:27:07 INFO 140099202549568] Epoch[8] Train-accuracy=0.781250\u001b[0m\n",
      "\u001b[34m[03/07/2022 20:27:07 INFO 140099202549568] Epoch[8] Time cost=16.314\u001b[0m\n",
      "\u001b[34m[03/07/2022 20:27:08 INFO 140099202549568] Epoch[8] Validation-accuracy=0.796875\u001b[0m\n",
      "\u001b[34m[03/07/2022 20:27:20 INFO 140099202549568] Epoch[9] Batch [20]#011Speed: 59.249 samples/sec#011accuracy=0.799107\u001b[0m\n",
      "\u001b[34m[03/07/2022 20:27:25 INFO 140099202549568] Epoch[9] Train-accuracy=0.791331\u001b[0m\n",
      "\u001b[34m[03/07/2022 20:27:25 INFO 140099202549568] Epoch[9] Time cost=16.102\u001b[0m\n",
      "\u001b[34m[03/07/2022 20:27:27 INFO 140099202549568] Epoch[9] Validation-accuracy=0.802083\u001b[0m\n",
      "\u001b[34m[03/07/2022 20:27:38 INFO 140099202549568] Epoch[10] Batch [20]#011Speed: 59.274 samples/sec#011accuracy=0.833333\u001b[0m\n",
      "\u001b[34m[03/07/2022 20:27:43 INFO 140099202549568] Epoch[10] Train-accuracy=0.819556\u001b[0m\n",
      "\u001b[34m[03/07/2022 20:27:43 INFO 140099202549568] Epoch[10] Time cost=16.098\u001b[0m\n",
      "\u001b[34m[03/07/2022 20:27:45 INFO 140099202549568] Epoch[10] Validation-accuracy=0.807292\u001b[0m\n",
      "\u001b[34m[03/07/2022 20:27:56 INFO 140099202549568] Epoch[11] Batch [20]#011Speed: 59.435 samples/sec#011accuracy=0.818452\u001b[0m\n",
      "\u001b[34m[03/07/2022 20:28:02 INFO 140099202549568] Epoch[11] Train-accuracy=0.811492\u001b[0m\n",
      "\u001b[34m[03/07/2022 20:28:02 INFO 140099202549568] Epoch[11] Time cost=16.110\u001b[0m\n",
      "\u001b[34m[03/07/2022 20:28:03 INFO 140099202549568] Epoch[11] Validation-accuracy=0.808036\u001b[0m\n",
      "\u001b[34m[03/07/2022 20:28:15 INFO 140099202549568] Epoch[12] Batch [20]#011Speed: 58.650 samples/sec#011accuracy=0.846726\u001b[0m\n",
      "\u001b[34m[03/07/2022 20:28:20 INFO 140099202549568] Epoch[12] Train-accuracy=0.847782\u001b[0m\n",
      "\u001b[34m[03/07/2022 20:28:20 INFO 140099202549568] Epoch[12] Time cost=16.202\u001b[0m\n",
      "\u001b[34m[03/07/2022 20:28:22 INFO 140099202549568] Epoch[12] Validation-accuracy=0.843750\u001b[0m\n",
      "\u001b[34m[03/07/2022 20:28:22 INFO 140099202549568] Storing the best model with validation accuracy: 0.843750\u001b[0m\n",
      "\u001b[34m[03/07/2022 20:28:22 INFO 140099202549568] Saved checkpoint to \"/opt/ml/model/image-classification-0013.params\"\u001b[0m\n",
      "\u001b[34m[03/07/2022 20:28:33 INFO 140099202549568] Epoch[13] Batch [20]#011Speed: 59.237 samples/sec#011accuracy=0.809524\u001b[0m\n",
      "\u001b[34m[03/07/2022 20:28:39 INFO 140099202549568] Epoch[13] Train-accuracy=0.831653\u001b[0m\n",
      "\u001b[34m[03/07/2022 20:28:39 INFO 140099202549568] Epoch[13] Time cost=16.093\u001b[0m\n",
      "\u001b[34m[03/07/2022 20:28:40 INFO 140099202549568] Epoch[13] Validation-accuracy=0.843750\u001b[0m\n",
      "\u001b[34m[03/07/2022 20:28:51 INFO 140099202549568] Epoch[14] Batch [20]#011Speed: 59.221 samples/sec#011accuracy=0.860119\u001b[0m\n",
      "\u001b[34m[03/07/2022 20:28:57 INFO 140099202549568] Epoch[14] Train-accuracy=0.854839\u001b[0m\n",
      "\u001b[34m[03/07/2022 20:28:57 INFO 140099202549568] Epoch[14] Time cost=16.102\u001b[0m\n",
      "\u001b[34m[03/07/2022 20:28:58 INFO 140099202549568] Epoch[14] Validation-accuracy=0.833333\u001b[0m\n",
      "\u001b[34m[03/07/2022 20:29:10 INFO 140099202549568] Epoch[15] Batch [20]#011Speed: 58.449 samples/sec#011accuracy=0.855655\u001b[0m\n",
      "\u001b[34m[03/07/2022 20:29:15 INFO 140099202549568] Epoch[15] Train-accuracy=0.860887\u001b[0m\n",
      "\u001b[34m[03/07/2022 20:29:15 INFO 140099202549568] Epoch[15] Time cost=16.264\u001b[0m\n",
      "\u001b[34m[03/07/2022 20:29:17 INFO 140099202549568] Epoch[15] Validation-accuracy=0.848214\u001b[0m\n",
      "\u001b[34m[03/07/2022 20:29:19 INFO 140099202549568] Storing the best model with validation accuracy: 0.848214\u001b[0m\n",
      "\u001b[34m[03/07/2022 20:29:19 INFO 140099202549568] Saved checkpoint to \"/opt/ml/model/image-classification-0016.params\"\u001b[0m\n",
      "\u001b[34m[03/07/2022 20:29:30 INFO 140099202549568] Epoch[16] Batch [20]#011Speed: 58.777 samples/sec#011accuracy=0.897321\u001b[0m\n",
      "\u001b[34m[03/07/2022 20:29:35 INFO 140099202549568] Epoch[16] Train-accuracy=0.877016\u001b[0m\n",
      "\u001b[34m[03/07/2022 20:29:35 INFO 140099202549568] Epoch[16] Time cost=16.189\u001b[0m\n",
      "\u001b[34m[03/07/2022 20:29:37 INFO 140099202549568] Epoch[16] Validation-accuracy=0.854167\u001b[0m\n",
      "\u001b[34m[03/07/2022 20:29:37 INFO 140099202549568] Storing the best model with validation accuracy: 0.854167\u001b[0m\n",
      "\u001b[34m[03/07/2022 20:29:37 INFO 140099202549568] Saved checkpoint to \"/opt/ml/model/image-classification-0017.params\"\u001b[0m\n",
      "\u001b[34m[03/07/2022 20:29:48 INFO 140099202549568] Epoch[17] Batch [20]#011Speed: 59.116 samples/sec#011accuracy=0.907738\u001b[0m\n",
      "\u001b[34m[03/07/2022 20:29:55 INFO 140099202549568] Epoch[17] Train-accuracy=0.898185\u001b[0m\n",
      "\u001b[34m[03/07/2022 20:29:55 INFO 140099202549568] Epoch[17] Time cost=17.378\u001b[0m\n",
      "\u001b[34m[03/07/2022 20:29:56 INFO 140099202549568] Epoch[17] Validation-accuracy=0.833333\u001b[0m\n",
      "\u001b[34m[03/07/2022 20:30:08 INFO 140099202549568] Epoch[18] Batch [20]#011Speed: 58.348 samples/sec#011accuracy=0.885417\u001b[0m\n",
      "\u001b[34m[03/07/2022 20:30:13 INFO 140099202549568] Epoch[18] Train-accuracy=0.891129\u001b[0m\n",
      "\u001b[34m[03/07/2022 20:30:13 INFO 140099202549568] Epoch[18] Time cost=16.290\u001b[0m\n",
      "\u001b[34m[03/07/2022 20:30:15 INFO 140099202549568] Epoch[18] Validation-accuracy=0.786458\u001b[0m\n",
      "\u001b[34m[03/07/2022 20:30:26 INFO 140099202549568] Epoch[19] Batch [20]#011Speed: 59.094 samples/sec#011accuracy=0.916667\u001b[0m\n",
      "\u001b[34m[03/07/2022 20:30:31 INFO 140099202549568] Epoch[19] Train-accuracy=0.918347\u001b[0m\n",
      "\u001b[34m[03/07/2022 20:30:31 INFO 140099202549568] Epoch[19] Time cost=16.123\u001b[0m\n",
      "\u001b[34m[03/07/2022 20:30:33 INFO 140099202549568] Epoch[19] Validation-accuracy=0.830357\u001b[0m\n",
      "\u001b[34m[03/07/2022 20:30:45 INFO 140099202549568] Epoch[20] Batch [20]#011Speed: 59.126 samples/sec#011accuracy=0.912202\u001b[0m\n",
      "\u001b[34m[03/07/2022 20:30:50 INFO 140099202549568] Epoch[20] Train-accuracy=0.894153\u001b[0m\n",
      "\u001b[34m[03/07/2022 20:30:50 INFO 140099202549568] Epoch[20] Time cost=16.120\u001b[0m\n",
      "\u001b[34m[03/07/2022 20:30:51 INFO 140099202549568] Epoch[20] Validation-accuracy=0.786458\u001b[0m\n",
      "\u001b[34m[03/07/2022 20:31:03 INFO 140099202549568] Epoch[21] Batch [20]#011Speed: 58.756 samples/sec#011accuracy=0.916667\u001b[0m\n",
      "\u001b[34m[03/07/2022 20:31:08 INFO 140099202549568] Epoch[21] Train-accuracy=0.924395\u001b[0m\n",
      "\u001b[34m[03/07/2022 20:31:08 INFO 140099202549568] Epoch[21] Time cost=16.282\u001b[0m\n",
      "\u001b[34m[03/07/2022 20:31:10 INFO 140099202549568] Epoch[21] Validation-accuracy=0.859375\u001b[0m\n",
      "\u001b[34m[03/07/2022 20:31:10 INFO 140099202549568] Storing the best model with validation accuracy: 0.859375\u001b[0m\n",
      "\u001b[34m[03/07/2022 20:31:10 INFO 140099202549568] Saved checkpoint to \"/opt/ml/model/image-classification-0022.params\"\u001b[0m\n",
      "\u001b[34m[03/07/2022 20:31:21 INFO 140099202549568] Epoch[22] Batch [20]#011Speed: 59.191 samples/sec#011accuracy=0.938988\u001b[0m\n",
      "\u001b[34m[03/07/2022 20:31:27 INFO 140099202549568] Epoch[22] Train-accuracy=0.919355\u001b[0m\n",
      "\u001b[34m[03/07/2022 20:31:27 INFO 140099202549568] Epoch[22] Time cost=16.139\u001b[0m\n",
      "\u001b[34m[03/07/2022 20:31:28 INFO 140099202549568] Epoch[22] Validation-accuracy=0.843750\u001b[0m\n",
      "\u001b[34m[03/07/2022 20:31:39 INFO 140099202549568] Epoch[23] Batch [20]#011Speed: 59.347 samples/sec#011accuracy=0.949405\u001b[0m\n",
      "\u001b[34m[03/07/2022 20:31:45 INFO 140099202549568] Epoch[23] Train-accuracy=0.936492\u001b[0m\n",
      "\u001b[34m[03/07/2022 20:31:45 INFO 140099202549568] Epoch[23] Time cost=16.095\u001b[0m\n",
      "\u001b[34m[03/07/2022 20:31:46 INFO 140099202549568] Epoch[23] Validation-accuracy=0.821429\u001b[0m\n",
      "\u001b[34m[03/07/2022 20:31:58 INFO 140099202549568] Epoch[24] Batch [20]#011Speed: 59.001 samples/sec#011accuracy=0.941964\u001b[0m\n",
      "\u001b[34m[03/07/2022 20:32:03 INFO 140099202549568] Epoch[24] Train-accuracy=0.943548\u001b[0m\n",
      "\u001b[34m[03/07/2022 20:32:03 INFO 140099202549568] Epoch[24] Time cost=16.193\u001b[0m\n",
      "\u001b[34m[03/07/2022 20:32:05 INFO 140099202549568] Epoch[24] Validation-accuracy=0.848958\u001b[0m\n",
      "\u001b[34m[03/07/2022 20:32:16 INFO 140099202549568] Epoch[25] Batch [20]#011Speed: 58.875 samples/sec#011accuracy=0.965774\u001b[0m\n",
      "\u001b[34m[03/07/2022 20:32:22 INFO 140099202549568] Epoch[25] Train-accuracy=0.963710\u001b[0m\n",
      "\u001b[34m[03/07/2022 20:32:22 INFO 140099202549568] Epoch[25] Time cost=16.191\u001b[0m\n",
      "\u001b[34m[03/07/2022 20:32:23 INFO 140099202549568] Epoch[25] Validation-accuracy=0.802083\u001b[0m\n",
      "\u001b[34m[03/07/2022 20:32:34 INFO 140099202549568] Epoch[26] Batch [20]#011Speed: 59.257 samples/sec#011accuracy=0.921131\u001b[0m\n",
      "\u001b[34m[03/07/2022 20:32:40 INFO 140099202549568] Epoch[26] Train-accuracy=0.929435\u001b[0m\n",
      "\u001b[34m[03/07/2022 20:32:40 INFO 140099202549568] Epoch[26] Time cost=16.099\u001b[0m\n",
      "\u001b[34m[03/07/2022 20:32:41 INFO 140099202549568] Epoch[26] Validation-accuracy=0.838542\u001b[0m\n",
      "\u001b[34m[03/07/2022 20:32:53 INFO 140099202549568] Epoch[27] Batch [20]#011Speed: 59.182 samples/sec#011accuracy=0.973214\u001b[0m\n",
      "\u001b[34m[03/07/2022 20:32:58 INFO 140099202549568] Epoch[27] Train-accuracy=0.960685\u001b[0m\n",
      "\u001b[34m[03/07/2022 20:32:58 INFO 140099202549568] Epoch[27] Time cost=16.119\u001b[0m\n",
      "\u001b[34m[03/07/2022 20:33:00 INFO 140099202549568] Epoch[27] Validation-accuracy=0.776786\u001b[0m\n",
      "\u001b[34m[03/07/2022 20:33:11 INFO 140099202549568] Epoch[28] Batch [20]#011Speed: 57.972 samples/sec#011accuracy=0.943452\u001b[0m\n",
      "\u001b[34m[03/07/2022 20:33:17 INFO 140099202549568] Epoch[28] Train-accuracy=0.951613\u001b[0m\n",
      "\u001b[34m[03/07/2022 20:33:17 INFO 140099202549568] Epoch[28] Time cost=16.348\u001b[0m\n",
      "\u001b[34m[03/07/2022 20:33:18 INFO 140099202549568] Epoch[28] Validation-accuracy=0.781250\u001b[0m\n",
      "\u001b[34m[03/07/2022 20:33:29 INFO 140099202549568] Epoch[29] Batch [20]#011Speed: 59.228 samples/sec#011accuracy=0.986607\u001b[0m\n",
      "\n",
      "2022-03-07 20:33:42 Uploading - Uploading generated training model\u001b[34m[03/07/2022 20:33:35 INFO 140099202549568] Epoch[29] Train-accuracy=0.985887\u001b[0m\n",
      "\u001b[34m[03/07/2022 20:33:35 INFO 140099202549568] Epoch[29] Time cost=16.149\u001b[0m\n",
      "\u001b[34m[03/07/2022 20:33:36 INFO 140099202549568] Epoch[29] Validation-accuracy=0.802083\u001b[0m\n",
      "\n",
      "2022-03-07 20:34:42 Completed - Training job completed\n",
      "ProfilerReport-1646684375: IssuesFound\n",
      "Training seconds: 776\n",
      "Billable seconds: 776\n"
     ]
    }
   ],
   "source": [
    "img_classifier_model.fit(model_inputs)"
   ]
  },
  {
   "cell_type": "markdown",
   "metadata": {},
   "source": [
    "If all goes well, you'll end up with a model topping out above `.8` validation accuracy. With only 1000 training samples in the CIFAR dataset, that's pretty good. We could definitely pursue data augmentation & gathering more samples to help us improve further, but for now let's proceed to deploy our model.\n",
    "\n",
    "### Getting ready to deploy\n",
    "\n",
    "To begin with, let's configure Model Monitor to track our deployment. We'll define a `DataCaptureConfig` below:"
   ]
  },
  {
   "cell_type": "code",
   "execution_count": 28,
   "metadata": {},
   "outputs": [],
   "source": [
    "from sagemaker.model_monitor import DataCaptureConfig\n",
    "\n",
    "data_capture_config = DataCaptureConfig(\n",
    "    enable_capture=True,\n",
    "    sampling_percentage=100,\n",
    "    destination_s3_uri=f\"s3://{bucket}/data_capture\",\n",
    "    sagemaker_session=session,\n",
    ")"
   ]
  },
  {
   "cell_type": "markdown",
   "metadata": {},
   "source": [
    "Note the `destination_s3_uri` parameter: At the end of the project, we can explore the `data_capture` directory in S3 to find crucial data about the inputs and outputs Model Monitor has observed on our model endpoint over time.\n",
    "\n",
    "With that done, deploy your model on a single `ml.m5.xlarge` instance with the data capture config attached:"
   ]
  },
  {
   "cell_type": "code",
   "execution_count": 30,
   "metadata": {},
   "outputs": [
    {
     "name": "stdout",
     "output_type": "stream",
     "text": [
      "---------------!image-classification-2022-03-07-21-31-43-391\n"
     ]
    }
   ],
   "source": [
    "deployment = img_classifier_model.deploy(\n",
    "    initial_instance_count=1,\n",
    "    instance_type='ml.m5.xlarge',\n",
    "    data_capture_config=data_capture_config\n",
    ")\n",
    "\n",
    "endpoint = deployment.endpoint_name\n",
    "print(endpoint)"
   ]
  },
  {
   "cell_type": "markdown",
   "metadata": {},
   "source": [
    "Note the endpoint name for later as well.\n",
    "\n",
    "Next, instantiate a Predictor:"
   ]
  },
  {
   "cell_type": "code",
   "execution_count": 32,
   "metadata": {},
   "outputs": [],
   "source": [
    "from sagemaker.predictor import Predictor\n",
    "\n",
    "predictor = Predictor(\n",
    "    endpoint_name = endpoint,\n",
    "    sagemaker_session = session\n",
    ")"
   ]
  },
  {
   "cell_type": "markdown",
   "metadata": {},
   "source": [
    "In the code snippet below we are going to prepare one of your saved images for prediction. Use the predictor to process the `payload`."
   ]
  },
  {
   "cell_type": "code",
   "execution_count": 33,
   "metadata": {},
   "outputs": [],
   "source": [
    "from sagemaker.serializers import IdentitySerializer\n",
    "import base64\n",
    "\n",
    "predictor.serializer = IdentitySerializer(\"image/png\")\n",
    "with open(\"./test/bicycle_s_001789.png\", \"rb\") as f:\n",
    "    payload = f.read()"
   ]
  },
  {
   "cell_type": "code",
   "execution_count": 38,
   "metadata": {},
   "outputs": [],
   "source": [
    "inference = predictor.predict(payload)"
   ]
  },
  {
   "cell_type": "markdown",
   "metadata": {},
   "source": [
    "Your `inference` object is an array of two values, the predicted probability value for each of your classes (bicycle and motorcycle respectively.) So, for example, a value of `b'[0.91, 0.09]'` indicates the probability of being a bike is 91% and being a motorcycle is 9%."
   ]
  },
  {
   "cell_type": "code",
   "execution_count": 39,
   "metadata": {},
   "outputs": [
    {
     "name": "stdout",
     "output_type": "stream",
     "text": [
      "b'[0.9834279417991638, 0.0165720172226429]'\n"
     ]
    }
   ],
   "source": [
    "print(inference)"
   ]
  },
  {
   "cell_type": "markdown",
   "metadata": {},
   "source": [
    "### Draft Lambdas and Step Function Workflow\n",
    "\n",
    "Your operations team uses Step Functions to orchestrate serverless workflows. One of the nice things about Step Functions is that [workflows can call other workflows](https://docs.aws.amazon.com/step-functions/latest/dg/connect-stepfunctions.html), so the team can easily plug your workflow into the broader production architecture for Scones Unlimited.\n",
    "\n",
    "In this next stage you're going to write and deploy three Lambda functions, and then use the Step Functions visual editor to chain them together! Our functions are going to work with a simple data object:\n",
    "\n",
    "```python\n",
    "{\n",
    "    \"inferences\": [], # Output of predictor.predict\n",
    "    \"s3_key\": \"\", # Source data S3 key\n",
    "    \"s3_bucket\": \"\", # Source data S3 bucket\n",
    "    \"image_data\": \"\"  # base64 encoded string containing the image data\n",
    "}\n",
    "```\n",
    "\n",
    "A good test object that you can use for Lambda tests and Step Function executions, throughout the next section, might look like this:\n",
    "\n",
    "```python\n",
    "{\n",
    "  \"image_data\": \"\",\n",
    "  \"s3_bucket\": MY_BUCKET_NAME, # Fill in with your bucket\n",
    "  \"s3_key\": \"test/bicycle_s_000513.png\"\n",
    "}\n",
    "```\n",
    "\n",
    "Using these fields, your functions can read and write the necessary data to execute your workflow. Let's start with the first function. Your first Lambda function will copy an object from S3, base64 encode it, and then return it to the step function as `image_data` in an event.\n",
    "\n",
    "Go to the Lambda dashboard and create a new Lambda function with a descriptive name like \"serializeImageData\" and select thr 'Python 3.8' runtime. Add the same permissions as the SageMaker role you created earlier. (Reminder: you do this in the Configuration tab under \"Permissions\"). Once you're ready, use the starter code below to craft your Lambda handler:\n",
    "\n",
    "```python\n",
    "import json\n",
    "import boto3\n",
    "import base64\n",
    "\n",
    "s3 = boto3.client('s3')\n",
    "\n",
    "def lambda_handler(event, context):\n",
    "    \"\"\"A function to serialize target data from S3\"\"\"\n",
    "    \n",
    "    # Get the s3 address from the Step Function event input\n",
    "    key = ## TODO: fill in\n",
    "    bucket = ## TODO: fill in\n",
    "    \n",
    "    # Download the data from s3 to /tmp/image.png\n",
    "    ## TODO: fill in\n",
    "    \n",
    "    # We read the data from a file\n",
    "    with open(\"/tmp/image.png\", \"rb\") as f:\n",
    "        image_data = base64.b64encode(f.read())\n",
    "\n",
    "    # Pass the data back to the Step Function\n",
    "    print(\"Event:\", event.keys())\n",
    "    return {\n",
    "        'statusCode': 200,\n",
    "        'body': {\n",
    "            \"image_data\": image_data,\n",
    "            \"s3_bucket\": bucket,\n",
    "            \"s3_key\": key,\n",
    "            \"inferences\": []\n",
    "        }\n",
    "    }\n",
    "```\n",
    "\n",
    "The next function is responsible for the classification part - we're going to take the image output from the previous function, decode it, and then pass inferences back to the the Step Function.\n",
    "\n",
    "Because this Lambda will have runtime dependencies (i.e. the SageMaker SDK) you'll need to package them in your function. *Key reading:* https://docs.aws.amazon.com/lambda/latest/dg/python-package-create.html#python-package-create-with-dependency\n",
    "\n",
    "Create a new Lambda function with the same rights and a descriptive name, then fill in the starter code below for your classifier Lambda.\n",
    "\n",
    "```python\n",
    "import json\n",
    "import sagemaker\n",
    "import base64\n",
    "from sagemaker.serializers import IdentitySerializer\n",
    "\n",
    "# Fill this in with the name of your deployed model\n",
    "ENDPOINT = ## TODO: fill in\n",
    "\n",
    "def lambda_handler(event, context):\n",
    "\n",
    "    # Decode the image data\n",
    "    image = base64.b64decode(## TODO: fill in)\n",
    "\n",
    "    # Instantiate a Predictor\n",
    "    predictor = ## TODO: fill in\n",
    "\n",
    "    # For this model the IdentitySerializer needs to be \"image/png\"\n",
    "    predictor.serializer = IdentitySerializer(\"image/png\")\n",
    "    \n",
    "    # Make a prediction:\n",
    "    inferences = ## TODO: fill in\n",
    "    \n",
    "    # We return the data back to the Step Function    \n",
    "    event[\"inferences\"] = inferences.decode('utf-8')\n",
    "    return {\n",
    "        'statusCode': 200,\n",
    "        'body': json.dumps(event)\n",
    "    }\n",
    "```\n",
    "\n",
    "Finally, we need to filter low-confidence inferences. Define a threshold between 1.00 and 0.000 for your model: what is reasonble for you? If the model predicts at `.70` for it's highest confidence label, do we want to pass that inference along to downstream systems? Make one last Lambda function and tee up the same permissions:\n",
    "\n",
    "```python\n",
    "import json\n",
    "\n",
    "\n",
    "THRESHOLD = .93\n",
    "\n",
    "\n",
    "def lambda_handler(event, context):\n",
    "    \n",
    "    # Grab the inferences from the event\n",
    "    inferences = ## TODO: fill in\n",
    "    \n",
    "    # Check if any values in our inferences are above THRESHOLD\n",
    "    meets_threshold = ## TODO: fill in\n",
    "    \n",
    "    # If our threshold is met, pass our data back out of the\n",
    "    # Step Function, else, end the Step Function with an error\n",
    "    if meets_threshold:\n",
    "        pass\n",
    "    else:\n",
    "        raise(\"THRESHOLD_CONFIDENCE_NOT_MET\")\n",
    "\n",
    "    return {\n",
    "        'statusCode': 200,\n",
    "        'body': json.dumps(event)\n",
    "    }\n",
    "```\n",
    "Once you have tested the lambda functions, save the code for each lambda function in a python script called 'lambda.py'.\n",
    "\n",
    "With your lambdas in place, you can use the Step Functions visual editor to construct a workflow that chains them together. In the Step Functions console you'll have the option to author a Standard step function *Visually*.\n",
    "\n",
    "When the visual editor opens, you'll have many options to add transitions in your workflow. We're going to keep it simple and have just one: to invoke Lambda functions. Add three of them chained together. For each one, you'll be able to select the Lambda functions you just created in the proper order, filter inputs and outputs, and give them descriptive names.\n",
    "\n",
    "Make sure that you:\n",
    "\n",
    "1. Are properly filtering the inputs and outputs of your invokations (e.g. `$.body`)\n",
    "2. Take care to remove the error handling from the last function - it's supposed to \"fail loudly\" for your operations colleagues!\n",
    "\n",
    "Take a screenshot of your working step function in action and export the step function as JSON for your submission package."
   ]
  },
  {
   "cell_type": "markdown",
   "metadata": {},
   "source": [
    "\n",
    "Great! Now you can use the files in `./test` as test files for our workflow. Depending on our threshold, our workflow should reliably pass predictions about images from `./test` on to downstream systems, while erroring out for inferences below our confidence threshold!\n",
    "\n",
    "### Testing and Evaluation\n",
    "\n",
    "Do several step function invokations using data from the `./test` folder. This process should give you confidence that the workflow both *succeeds* AND *fails* as expected. In addition, SageMaker Model Monitor will generate recordings of your data and inferences which we can visualize.\n",
    "\n",
    "Here's a function that can help you generate test inputs for your invokations:"
   ]
  },
  {
   "cell_type": "code",
   "execution_count": 6,
   "metadata": {},
   "outputs": [
    {
     "name": "stdout",
     "output_type": "stream",
     "text": [
      "{\"image_data\": \"\", \"s3_bucket\": \"sagemaker-ap-southeast-1-263436898058\", \"s3_key\": \"test/minibike_s_000880.png\"}\n"
     ]
    }
   ],
   "source": [
    "import random\n",
    "import boto3\n",
    "import json\n",
    "\n",
    "\n",
    "def generate_test_case():\n",
    "    # Setup s3 in boto3\n",
    "    s3 = boto3.resource('s3')\n",
    "    \n",
    "    bucket_obj = s3.Bucket(bucket)\n",
    "    # Randomly pick from sfn or test folders in our bucket\n",
    "    objects = bucket_obj.objects.all().filter(Prefix=\"test\")\n",
    "    \n",
    "    # Grab any random object key from that folder!\n",
    "    obj = random.choice([x.key for x in objects])\n",
    "    \n",
    "    return json.dumps({\n",
    "        \"image_data\": \"\",\n",
    "        \"s3_bucket\": bucket,\n",
    "        \"s3_key\": obj\n",
    "    })\n",
    "\n",
    "test_case = generate_test_case()\n",
    "print(test_case)"
   ]
  },
  {
   "cell_type": "code",
   "execution_count": 8,
   "metadata": {},
   "outputs": [
    {
     "data": {
      "text/plain": [
       "'sagemaker-ap-southeast-1-263436898058'"
      ]
     },
     "execution_count": 8,
     "metadata": {},
     "output_type": "execute_result"
    }
   ],
   "source": [
    "bucket"
   ]
  },
  {
   "cell_type": "markdown",
   "metadata": {},
   "source": [
    "In the Step Function dashboard for your new function, you can create new executions and copy in the generated test cases. Do several executions so that you can generate data you can evaluate and visualize.\n",
    "\n",
    "Once you've done several executions, let's visualize the record of our inferences. Pull in the JSONLines data from your inferences like so:"
   ]
  },
  {
   "cell_type": "code",
   "execution_count": 16,
   "metadata": {},
   "outputs": [],
   "source": [
    "from datetime import date"
   ]
  },
  {
   "cell_type": "code",
   "execution_count": 20,
   "metadata": {},
   "outputs": [
    {
     "data": {
      "text/plain": [
       "'11-Mar-2022'"
      ]
     },
     "execution_count": 20,
     "metadata": {},
     "output_type": "execute_result"
    }
   ],
   "source": [
    "time = date.today().strftime(\"%d-%b-%Y\")\n",
    "time"
   ]
  },
  {
   "cell_type": "code",
   "execution_count": 22,
   "metadata": {},
   "outputs": [],
   "source": [
    "from sagemaker.s3 import S3Downloader\n",
    "\n",
    "# data captured on s3 will be saved into sagemaker\n",
    "data_path = f's3://{bucket}/data_capture/'\n",
    "\n",
    "S3Downloader.download(data_path, \"captured_data\")\n",
    "\n",
    "# Feel free to repeat this multiple times and pull in more data"
   ]
  },
  {
   "cell_type": "markdown",
   "metadata": {},
   "source": [
    "The data are in JSONLines format, where multiple valid JSON objects are stacked on top of eachother in a single `jsonl` file. We'll import an open-source library, `jsonlines` that was purpose built for parsing this format."
   ]
  },
  {
   "cell_type": "code",
   "execution_count": 23,
   "metadata": {},
   "outputs": [
    {
     "name": "stdout",
     "output_type": "stream",
     "text": [
      "Collecting jsonlines\n",
      "  Downloading jsonlines-3.0.0-py3-none-any.whl (8.5 kB)\n",
      "Requirement already satisfied: attrs>=19.2.0 in /home/ec2-user/anaconda3/envs/pytorch_p36/lib/python3.6/site-packages (from jsonlines) (20.3.0)\n",
      "Requirement already satisfied: typing-extensions in /home/ec2-user/anaconda3/envs/pytorch_p36/lib/python3.6/site-packages (from jsonlines) (3.10.0.0)\n",
      "Installing collected packages: jsonlines\n",
      "Successfully installed jsonlines-3.0.0\n"
     ]
    }
   ],
   "source": [
    "!pip install jsonlines\n",
    "import jsonlines"
   ]
  },
  {
   "cell_type": "markdown",
   "metadata": {},
   "source": [
    "Now we can extract the data from each of the source files:"
   ]
  },
  {
   "cell_type": "code",
   "execution_count": 31,
   "metadata": {},
   "outputs": [],
   "source": [
    "# import os\n",
    "\n",
    "# # List the file names we downloaded\n",
    "# file_handles = os.listdir(\"./captured_data\")\n",
    "\n",
    "# # Dump all the data into an array\n",
    "# json_data = []\n",
    "# for jsonl in file_handles:\n",
    "#     with jsonlines.open(f\"./captured_data/{jsonl}\") as f:\n",
    "#         json_data.append(f.read())"
   ]
  },
  {
   "cell_type": "code",
   "execution_count": 36,
   "metadata": {},
   "outputs": [],
   "source": [
    "# the 'data_catupre' is a datetime-aware path with nested folders, need traverse to get all json files\n",
    "# Dump all the data into an array\n",
    "json_data=[]\n",
    "\n",
    "def getallfile(path):\n",
    "    allfilelist=os.listdir(path)\n",
    "    for file in allfilelist:\n",
    "        filepath=os.path.join(path,file)\n",
    "        if os.path.isdir(filepath):\n",
    "            getallfile(filepath)\n",
    "        elif os.path.isfile(filepath):\n",
    "            with jsonlines.open(filepath) as f:\n",
    "                json_data.append(f.read())\n",
    "\n",
    "getallfile(\"./captured_data\")"
   ]
  },
  {
   "cell_type": "markdown",
   "metadata": {},
   "source": [
    "The data should now be a list of dictionaries, with significant nesting. We'll give you an example of some code that grabs data out of the objects and visualizes it:"
   ]
  },
  {
   "cell_type": "code",
   "execution_count": 37,
   "metadata": {},
   "outputs": [
    {
     "data": {
      "text/plain": [
       "([0.0001782575127435848, 0.9998217225074768], '2022-03-09T20:26:00Z')"
      ]
     },
     "execution_count": 37,
     "metadata": {},
     "output_type": "execute_result"
    }
   ],
   "source": [
    "# Define how we'll get our data\n",
    "def simple_getter(obj):\n",
    "    inferences = obj[\"captureData\"][\"endpointOutput\"][\"data\"]\n",
    "    timestamp = obj[\"eventMetadata\"][\"inferenceTime\"]\n",
    "    return json.loads(inferences), timestamp\n",
    "\n",
    "simple_getter(json_data[0])"
   ]
  },
  {
   "cell_type": "markdown",
   "metadata": {},
   "source": [
    "Finally, here's an example of a visualization you can build with this data. In this last part, you will take some time and build your own - the captured data has the input images, the resulting inferences, and the timestamps."
   ]
  },
  {
   "cell_type": "code",
   "execution_count": 47,
   "metadata": {},
   "outputs": [
    {
     "data": {
      "image/png": "[encoded data removed]",
      "text/plain": [
       "<Figure size 432x288 with 1 Axes>"
      ]
     },
     "metadata": {},
     "output_type": "display_data"
    }
   ],
   "source": [
    "import matplotlib.pyplot as plt\n",
    "import matplotlib.image as mpimg\n",
    "import io\n",
    "import base64\n",
    "import numpy as np\n",
    "# Populate the data for the x and y axis\n",
    "x = []\n",
    "y = []\n",
    "for obj in json_data:\n",
    "    inference, timestamp = simple_getter(obj)\n",
    "    \n",
    "    y.append(max(inference))\n",
    "    x.append(timestamp)\n",
    "\n",
    "# Todo: here is an visualization example, take some time to build another visual that helps monitor the result\n",
    "# Plot the data\n",
    "plt.scatter(x, y, c=['r' if k<.94 else 'b' for k in y ])\n",
    "plt.axhline(y=0.94, color='g', linestyle='--')\n",
    "plt.ylim(bottom=.88)\n",
    "\n",
    "# Add labels\n",
    "plt.ylabel(\"Confidence\")\n",
    "plt.suptitle(\"Observed Recent Inferences\", size=14)\n",
    "plt.title(\"Pictured with confidence threshold for production use\", size=10)\n",
    "\n",
    "# Give it some pizzaz!\n",
    "plt.style.use(\"Solarize_Light2\")\n",
    "plt.gcf().autofmt_xdate()"
   ]
  },
  {
   "cell_type": "code",
   "execution_count": 49,
   "metadata": {},
   "outputs": [],
   "source": [
    "labels = ['bicycle', 'motorcycle']"
   ]
  },
  {
   "cell_type": "code",
   "execution_count": 52,
   "metadata": {},
   "outputs": [
    {
     "data": {
      "text/plain": [
       "{'captureData': {'endpointInput': {'observedContentType': 'image/png',\n",
       "   'mode': 'INPUT',\n",
       "   'data': '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',\n",
       "   'encoding': 'BASE64'},\n",
       "  'endpointOutput': {'observedContentType': 'application/json',\n",
       "   'mode': 'OUTPUT',\n",
       "   'data': '[0.0001782575127435848, 0.9998217225074768]',\n",
       "   'encoding': 'JSON'}},\n",
       " 'eventMetadata': {'eventId': 'd0bdfba1-72d5-4444-93c9-42410226ec98',\n",
       "  'inferenceTime': '2022-03-09T20:26:00Z'},\n",
       " 'eventVersion': '0'}"
      ]
     },
     "execution_count": 52,
     "metadata": {},
     "output_type": "execute_result"
    }
   ],
   "source": [
    "json_data[0]"
   ]
  },
  {
   "cell_type": "code",
   "execution_count": 56,
   "metadata": {},
   "outputs": [],
   "source": [
    "def read_base64_img(data):\n",
    "    return  mpimg.imread(io.BytesIO(base64.b64decode(data['captureData']['endpointInput']['data'])),format='JPG')"
   ]
  },
  {
   "cell_type": "code",
   "execution_count": 58,
   "metadata": {},
   "outputs": [
    {
     "data": {
      "image/png": "[encoded data removed]",
      "text/plain": [
       "<Figure size 1440x1440 with 4 Axes>"
      ]
     },
     "metadata": {},
     "output_type": "display_data"
    }
   ],
   "source": [
    "labels = ['bicycle', 'motorcycle']\n",
    "\n",
    "columns = len(json_data)\n",
    "rows = 1\n",
    "fig = plt.figure(figsize=(20,20))\n",
    "for i, inference_object in enumerate(json_data):\n",
    "    # sub img position\n",
    "    fig.add_subplot(rows, columns, i+1)\n",
    "    \n",
    "    image = read_base64_img(inference_object)\n",
    "    inference_time = inference_object['eventMetadata']['inferenceTime'].split('T')[0]\n",
    "    inference = json.loads(inference_object['captureData']['endpointOutput']['data'])\n",
    "    \n",
    "    plt.imshow(image, interpolation='nearest')\n",
    "    plt.title(f\" probabilities: {str(np.round(inference,3))}\\n label: {labels[np.argmax(inference)]}\\n inference time: {inference_time}\")\n",
    "#plt.savefig(path.join(figures_dir, \"visualization_predicted_images.pdf\"), bbox_inches = 'tight')\n",
    "plt.show()"
   ]
  },
  {
   "cell_type": "markdown",
   "metadata": {},
   "source": [
    "### Congratulations!\n",
    "\n",
    "You've reached the end of the project. In this project you created an event-drivent ML workflow that can be incorporated into the Scones Unlimited production architecture. You used the SageMaker Estimator API to deploy your SageMaker Model and Endpoint, and you used AWS Lambda and Step Functions to orchestrate your ML workflow. Using SageMaker Model Monitor, you instrumented and observed your Endpoint, and at the end of the project you built a visualization to help stakeholders understand the performance of the Endpoint over time. If you're up for it, you can even go further with these stretch goals:\n",
    "\n",
    "* Extend your workflow to incorporate more classes: the CIFAR dataset includes other vehicles that Scones Unlimited can identify with this model.\n",
    "* Modify your event driven workflow: can you rewrite your Lambda functions so that the workflow can process multiple image inputs in parallel? Can the Step Function \"fan out\" to accomodate this new workflow?\n",
    "* Consider the test data generator we provided for you. Can we use it to create a \"dummy data\" generator, to simulate a continuous stream of input data? Or a big paralell load of data?\n",
    "* What if we want to get notified every time our step function errors out? Can we use the Step Functions visual editor in conjunction with a service like SNS to accomplish this? Try it out!\n",
    "\n",
    "\n"
   ]
  }
 ],
 "metadata": {
  "instance_type": "ml.t3.medium",
  "kernelspec": {
   "display_name": "conda_pytorch_p36",
   "language": "python",
   "name": "conda_pytorch_p36"
  },
  "language_info": {
   "codemirror_mode": {
    "name": "ipython",
    "version": 3
   },
   "file_extension": ".py",
   "mimetype": "text/x-python",
   "name": "python",
   "nbconvert_exporter": "python",
   "pygments_lexer": "ipython3",
   "version": "3.6.13"
  }
 },
 "nbformat": 4,
 "nbformat_minor": 4
}
